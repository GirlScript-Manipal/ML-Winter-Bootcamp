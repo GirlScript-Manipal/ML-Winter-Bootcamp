{
 "cells": [
  {
   "cell_type": "code",
   "execution_count": 1,
   "id": "bbc4812e",
   "metadata": {},
   "outputs": [
    {
     "name": "stdout",
     "output_type": "stream",
     "text": [
      "[(28, 11), ('Srinithya', 'halaharvi', 'GS'), (1, 2, 3), 28.11]\n"
     ]
    }
   ],
   "source": [
    "#filter function \n",
    "list1=[(28,11),('Srinithya','halaharvi','GS'),(1,2,3),(28.11)]\n",
    "def remove(tuples):\n",
    "    tuples = filter(None, tuples)\n",
    "    return tuples\n",
    "print(list(remove(list1)))"
   ]
  },
  {
   "cell_type": "code",
   "execution_count": 2,
   "id": "7aff8944",
   "metadata": {},
   "outputs": [
    {
     "name": "stdout",
     "output_type": "stream",
     "text": [
      "[28.11, (1, 2, 3), ('Srinithya', 'halaharvi', 'GS'), (28, 11)]\n"
     ]
    }
   ],
   "source": [
    "#revers function\n",
    "list1.reverse()\n",
    "print(list1)"
   ]
  }
 ],
 "metadata": {
  "kernelspec": {
   "display_name": "Python 3 (ipykernel)",
   "language": "python",
   "name": "python3"
  },
  "language_info": {
   "codemirror_mode": {
    "name": "ipython",
    "version": 3
   },
   "file_extension": ".py",
   "mimetype": "text/x-python",
   "name": "python",
   "nbconvert_exporter": "python",
   "pygments_lexer": "ipython3",
   "version": "3.10.0"
  }
 },
 "nbformat": 4,
 "nbformat_minor": 5
}
