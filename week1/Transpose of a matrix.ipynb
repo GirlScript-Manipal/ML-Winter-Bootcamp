{
 "cells": [
  {
   "cell_type": "code",
   "execution_count": 1,
   "id": "7d6f3fab",
   "metadata": {},
   "outputs": [],
   "source": [
    "import numpy as np"
   ]
  },
  {
   "cell_type": "code",
   "execution_count": 2,
   "id": "c1929607",
   "metadata": {},
   "outputs": [],
   "source": [
    "matrix=[['sri','nithya','halaharvi'],['girl','script','manipal'],[28,11,2003]]"
   ]
  },
  {
   "cell_type": "code",
   "execution_count": 3,
   "id": "bcf52eff",
   "metadata": {},
   "outputs": [
    {
     "name": "stdout",
     "output_type": "stream",
     "text": [
      "[['sri', 'girl', 28], ['girl', 'script', 11], [28, 11, 2003]]\n"
     ]
    }
   ],
   "source": [
    "for i in range(len(matrix)):\n",
    "    for j in range(len(matrix[0])):\n",
    "        matrix[i][j]=matrix[j][i]\n",
    "print(matrix)"
   ]
  },
  {
   "cell_type": "code",
   "execution_count": 4,
   "id": "eeb87a43",
   "metadata": {},
   "outputs": [
    {
     "name": "stdout",
     "output_type": "stream",
     "text": [
      "[['sri' 'girl' '28' '1' '2109']\n",
      " ['nithya' 'script' '11' '2' '53']\n",
      " ['halaharvi' 'manipal' '2003' '3' '302']]\n"
     ]
    }
   ],
   "source": [
    "matrix=[['sri','nithya','halaharvi'],['girl','script','manipal'],[28,11,2003],[1,2,3],[2109,53,302]]\n",
    "print(np.transpose(matrix))"
   ]
  }
 ],
 "metadata": {
  "kernelspec": {
   "display_name": "Python 3 (ipykernel)",
   "language": "python",
   "name": "python3"
  },
  "language_info": {
   "codemirror_mode": {
    "name": "ipython",
    "version": 3
   },
   "file_extension": ".py",
   "mimetype": "text/x-python",
   "name": "python",
   "nbconvert_exporter": "python",
   "pygments_lexer": "ipython3",
   "version": "3.10.0"
  }
 },
 "nbformat": 4,
 "nbformat_minor": 5
}
