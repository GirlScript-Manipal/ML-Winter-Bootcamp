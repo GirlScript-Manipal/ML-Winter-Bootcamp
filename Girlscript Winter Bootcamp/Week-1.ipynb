{
 "cells": [
  {
   "cell_type": "code",
   "execution_count": 1,
   "id": "aa8ce39d",
   "metadata": {},
   "outputs": [
    {
     "name": "stdout",
     "output_type": "stream",
     "text": [
      "Matrix:\n",
      "\n",
      "[[1 2 3]\n",
      " [4 5 6]\n",
      " [7 8 9]]\n",
      "\n",
      "Transpose of Matrix using nested list comprehension:\n",
      "\n",
      "[1, 4, 7]\n",
      "[2, 5, 8]\n",
      "[3, 6, 9]\n",
      "\n",
      "Transpose of Matrix using numpy:\n",
      "\n",
      "[[1 4 7]\n",
      " [2 5 8]\n",
      " [3 6 9]]\n"
     ]
    }
   ],
   "source": [
    "# Transpose of a matrix\n",
    "import numpy as np\n",
    "\n",
    "matrix = np.array([[1,2,3], [4,5,6], [7,8,9]])\n",
    "print(\"Matrix:\\n\")\n",
    "print(matrix)\n",
    "\n",
    "print(\"\\nTranspose of Matrix using nested list comprehension:\\n\")\n",
    "transpose = [[matrix[j][i] for j in range(len(matrix))] for i in range(len(matrix[0]))]\n",
    "for row in transpose:\n",
    "    print(row)\n",
    "\n",
    "print(\"\\nTranspose of Matrix using numpy:\\n\")\n",
    "print(np.transpose(matrix))"
   ]
  },
  {
   "cell_type": "code",
   "execution_count": 2,
   "id": "0ffeff59",
   "metadata": {},
   "outputs": [
    {
     "name": "stdout",
     "output_type": "stream",
     "text": [
      "List:\n",
      "[(), (1, 2), (3, 4), (), (5, 6), ()]\n",
      "Filtered list in reverse:\n",
      "[(5, 6), (3, 4), (1, 2)]\n"
     ]
    }
   ],
   "source": [
    "# Remove empty tuples from a list\n",
    "def removetuple(num):\n",
    "    num = filter(None, num)\n",
    "    return num\n",
    "\n",
    "num = [(), (1, 2), (3, 4), (), (5, 6), ()]\n",
    "print(\"List:\")\n",
    "print(list(num))\n",
    "print(\"Filtered list in reverse:\")\n",
    "num.reverse()\n",
    "print(list(removetuple(num)))"
   ]
  },
  {
   "cell_type": "code",
   "execution_count": null,
   "id": "3e443ded",
   "metadata": {},
   "outputs": [],
   "source": []
  }
 ],
 "metadata": {
  "kernelspec": {
   "display_name": "Python 3 (ipykernel)",
   "language": "python",
   "name": "python3"
  },
  "language_info": {
   "codemirror_mode": {
    "name": "ipython",
    "version": 3
   },
   "file_extension": ".py",
   "mimetype": "text/x-python",
   "name": "python",
   "nbconvert_exporter": "python",
   "pygments_lexer": "ipython3",
   "version": "3.9.7"
  }
 },
 "nbformat": 4,
 "nbformat_minor": 5
}
